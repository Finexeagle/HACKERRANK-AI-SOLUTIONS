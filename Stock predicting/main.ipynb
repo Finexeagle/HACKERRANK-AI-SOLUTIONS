{
 "cells": [
  {
   "cell_type": "code",
   "execution_count": 1,
   "id": "250e48bb",
   "metadata": {},
   "outputs": [],
   "source": [
    "import pandas as pd\n",
    "import numpy as np"
   ]
  },
  {
   "cell_type": "code",
   "execution_count": null,
   "id": "cf104eeb",
   "metadata": {},
   "outputs": [],
   "source": [
    "line_set =  []\n",
    "dict_data = {}\n",
    "dict_dataset = []\n",
    "\n",
    "with open(\"dataset.txt\", \"r\") as file:\n",
    "    for line in file.readlines():\n",
    "        line_set.append(line.strip().split(\"/n\"))\n",
    "        \n",
    "        \n",
    "for line in line_set:\n",
    "    parts = line[0].split()\n",
    "    pair = {parts[0]:parts[1:]}\n",
    "    dict_data.update(pair)"
   ]
  }
 ],
 "metadata": {
  "kernelspec": {
   "display_name": "Python 3",
   "language": "python",
   "name": "python3"
  },
  "language_info": {
   "codemirror_mode": {
    "name": "ipython",
    "version": 3
   },
   "file_extension": ".py",
   "mimetype": "text/x-python",
   "name": "python",
   "nbconvert_exporter": "python",
   "pygments_lexer": "ipython3",
   "version": "3.12.5"
  }
 },
 "nbformat": 4,
 "nbformat_minor": 5
}
